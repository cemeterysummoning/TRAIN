{
  "nbformat": 4,
  "nbformat_minor": 0,
  "metadata": {
    "colab": {
      "provenance": [],
      "include_colab_link": true
    },
    "kernelspec": {
      "name": "python3",
      "display_name": "Python 3"
    },
    "language_info": {
      "name": "python"
    }
  },
  "cells": [
    {
      "cell_type": "markdown",
      "metadata": {
        "id": "view-in-github",
        "colab_type": "text"
      },
      "source": [
        "<a href=\"https://colab.research.google.com/github/cemeterysummoning/TRAIN/blob/main/My_TRAIN_Week_1_Lab_Notebook.ipynb\" target=\"_parent\"><img src=\"https://colab.research.google.com/assets/colab-badge.svg\" alt=\"Open In Colab\"/></a>"
      ]
    },
    {
      "cell_type": "markdown",
      "source": [
        "# **Lab 1: Orientation**\n",
        "---\n",
        "\n",
        "### **Description**\n",
        "In this lab, we will familiarize ourselves with Google Colab.\n",
        "\n",
        "<br>\n",
        "\n",
        "### **Structure**\n",
        "**Part 1**: [Getting Familiar with Google Colab](#p1)\n",
        "\n",
        "**Part 2**: [Reading and Modifying Code](#p2)\n",
        "\n",
        "\n",
        "\n",
        "<br>\n",
        "\n",
        "### **Learning Objectives**\n",
        "By the end of this lab, we will:\n",
        "* Recognize how to use Google Colab to write and execute code.\n",
        "\n"
      ],
      "metadata": {
        "id": "K3JVwUgVElwe"
      }
    },
    {
      "cell_type": "markdown",
      "source": [
        "<a name=\"p1\"></a>\n",
        "\n",
        "---\n",
        "##**Part 1: Getting Familiar with Google Colab**\n",
        "---"
      ],
      "metadata": {
        "id": "vFusVI8O6sd-"
      }
    },
    {
      "cell_type": "markdown",
      "source": [
        "#### **Problem #1.1**\n",
        "\n",
        "**Together**, let's change the title of our notebook. Rename the notebook to \"My TRAIN Week 1 Lab Notebook\"."
      ],
      "metadata": {
        "id": "4EgRMGgY7J-X"
      }
    },
    {
      "cell_type": "markdown",
      "source": [
        "#### **Problem #1.2**\n",
        "\n",
        "**Together**, let's create a new text cell and type: \"This is a text cell.\""
      ],
      "metadata": {
        "id": "1977NXTR78g_"
      }
    },
    {
      "cell_type": "markdown",
      "source": [
        "This is a text cell."
      ],
      "metadata": {
        "id": "WI9Sk09SwfGx"
      }
    },
    {
      "cell_type": "markdown",
      "source": [
        "#### **Problem #1.3**\n",
        "\n",
        "**Together**, let's create a new code cell and type: \"This is a code cell.\""
      ],
      "metadata": {
        "id": "7EcHRNJt8QaH"
      }
    },
    {
      "cell_type": "code",
      "source": [
        "\"This is a code cell\""
      ],
      "metadata": {
        "colab": {
          "base_uri": "https://localhost:8080/",
          "height": 35
        },
        "id": "cv1i4WiJwoM-",
        "outputId": "864c6875-0c35-4d8d-c1fa-c717cf06b0f6"
      },
      "execution_count": null,
      "outputs": [
        {
          "output_type": "execute_result",
          "data": {
            "text/plain": [
              "'This is a code cell'"
            ],
            "application/vnd.google.colaboratory.intrinsic+json": {
              "type": "string"
            }
          },
          "metadata": {},
          "execution_count": 7
        }
      ]
    },
    {
      "cell_type": "markdown",
      "source": [
        "#### **Problem #1.4**\n",
        "\n",
        "**Together**, let's run the code cell below."
      ],
      "metadata": {
        "id": "Lgm13Kns8Vzi"
      }
    },
    {
      "cell_type": "code",
      "source": [
        "\"Hello World!\""
      ],
      "metadata": {
        "id": "se-uUU8bE-Gn",
        "colab": {
          "base_uri": "https://localhost:8080/",
          "height": 35
        },
        "outputId": "ed6680f8-7681-4021-aa6e-81356de316ed"
      },
      "execution_count": null,
      "outputs": [
        {
          "output_type": "execute_result",
          "data": {
            "text/plain": [
              "'Hello World!'"
            ],
            "application/vnd.google.colaboratory.intrinsic+json": {
              "type": "string"
            }
          },
          "metadata": {},
          "execution_count": 1
        }
      ]
    },
    {
      "cell_type": "markdown",
      "source": [
        "---\n",
        "\n",
        "<center>\n",
        "\n",
        "#### **Wait for Your Instructor to Continue**\n",
        "\n",
        "---"
      ],
      "metadata": {
        "id": "0EOWYdxhTiki"
      }
    },
    {
      "cell_type": "markdown",
      "source": [
        "<a name=\"p2\"></a>\n",
        "\n",
        "---\n",
        "##**Part 2: Reading and Modifying Code**\n",
        "---"
      ],
      "metadata": {
        "id": "VeQYlCX4wJ3z"
      }
    },
    {
      "cell_type": "markdown",
      "source": [
        "#### **Problem #2.1**\n",
        "\n",
        "**Together**, let's modify the value of the `color` variable so that it prints: \"My favorite color is green\""
      ],
      "metadata": {
        "id": "-tQi-Wr84P0Z"
      }
    },
    {
      "cell_type": "code",
      "source": [
        "color = 'green'\n",
        "\n",
        "print(\"My favorite color is\", color)"
      ],
      "metadata": {
        "id": "BkJ4lcps4P0a",
        "colab": {
          "base_uri": "https://localhost:8080/"
        },
        "outputId": "0b2a4e42-e9ac-49ee-ad1b-fe32e7a26c0c"
      },
      "execution_count": null,
      "outputs": [
        {
          "output_type": "stream",
          "name": "stdout",
          "text": [
            "My favorite color is green\n"
          ]
        }
      ]
    },
    {
      "cell_type": "markdown",
      "source": [
        "#### **Problem #2.2**\n",
        "\n",
        "**Together**, let's modify the code below to calculate the circumference of a circle with a radius of 10."
      ],
      "metadata": {
        "id": "dtWu62M4wJ4A"
      }
    },
    {
      "cell_type": "code",
      "source": [
        "radius = 10\n",
        "circumference = 2 * 3.14 * radius\n",
        "print(circumference)"
      ],
      "metadata": {
        "id": "_VDZteP43Ahk",
        "colab": {
          "base_uri": "https://localhost:8080/"
        },
        "outputId": "9f8f66c5-728f-4623-e5f9-d7e32ea0984a"
      },
      "execution_count": null,
      "outputs": [
        {
          "output_type": "stream",
          "name": "stdout",
          "text": [
            "62.800000000000004\n"
          ]
        }
      ]
    },
    {
      "cell_type": "markdown",
      "source": [
        "#### **Problem #2.3**\n",
        "\n",
        "**Together**, let's modify the `name` variable so that it stores our name."
      ],
      "metadata": {
        "id": "ER5diAO04OKl"
      }
    },
    {
      "cell_type": "code",
      "source": [
        "name = 'Yuna'\n",
        "print(\"My name is \" + name)"
      ],
      "metadata": {
        "id": "SbFaL4wM4OKx",
        "colab": {
          "base_uri": "https://localhost:8080/"
        },
        "outputId": "aaceae59-9a0f-4592-f30c-94114958897d"
      },
      "execution_count": null,
      "outputs": [
        {
          "output_type": "stream",
          "name": "stdout",
          "text": [
            "My name is Yuna\n"
          ]
        }
      ]
    },
    {
      "cell_type": "markdown",
      "source": [
        "---\n",
        "\n",
        "#### **Now it's your turn! Try Problems #2.4 - 2.5 on your own.**\n",
        "\n",
        "---"
      ],
      "metadata": {
        "id": "i4KrGzf_5U8p"
      }
    },
    {
      "cell_type": "markdown",
      "source": [
        "#### **Problem #2.4**\n",
        "\n",
        "**Independently**, modify the value of x so that the result becomes 20."
      ],
      "metadata": {
        "id": "qX0JfaFswJ4B"
      }
    },
    {
      "cell_type": "code",
      "source": [
        "x = 15\n",
        "y = 5\n",
        "result = x + y\n",
        "print(result)"
      ],
      "metadata": {
        "id": "CG4Svia5wJ4B",
        "colab": {
          "base_uri": "https://localhost:8080/"
        },
        "outputId": "3ed67b41-0ea2-4e9d-ae5a-192bdf12d2d6"
      },
      "execution_count": null,
      "outputs": [
        {
          "output_type": "stream",
          "name": "stdout",
          "text": [
            "20\n"
          ]
        }
      ]
    },
    {
      "cell_type": "markdown",
      "source": [
        "#### **Problem #2.5**\n",
        "\n",
        "**Independently**, modify the code below to calculate the area of a triangle with a base of 10 and a height of 12."
      ],
      "metadata": {
        "id": "Tye-OC_E355_"
      }
    },
    {
      "cell_type": "code",
      "source": [
        "base = 10\n",
        "height = 12\n",
        "area_of_triangle = 0.5 * base * height\n",
        "print(area_of_triangle)"
      ],
      "metadata": {
        "id": "VB362cPh356A",
        "colab": {
          "base_uri": "https://localhost:8080/"
        },
        "outputId": "d9679d82-dbf2-4358-8f0b-3cf5ec5f10f3"
      },
      "execution_count": null,
      "outputs": [
        {
          "output_type": "stream",
          "name": "stdout",
          "text": [
            "60.0\n"
          ]
        }
      ]
    },
    {
      "cell_type": "markdown",
      "source": [
        "#End of notebook\n",
        "---\n",
        "© 2023 The Coding School, All rights reserved"
      ],
      "metadata": {
        "id": "ZjjNOmiT5bPH"
      }
    }
  ]
}